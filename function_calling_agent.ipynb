{
 "cells": [
  {
   "cell_type": "code",
   "execution_count": 1,
   "metadata": {},
   "outputs": [
    {
     "name": "stderr",
     "output_type": "stream",
     "text": [
      "/Users/johtorr/Repos/llm-local-rag/.venv/lib/python3.12/site-packages/tqdm/auto.py:21: TqdmWarning: IProgress not found. Please update jupyter and ipywidgets. See https://ipywidgets.readthedocs.io/en/stable/user_install.html\n",
      "  from .autonotebook import tqdm as notebook_tqdm\n",
      "2024-11-14 16:55:13,596\tINFO util.py:154 -- Missing packages: ['ipywidgets']. Run `pip install -U ipywidgets`, then restart the notebook server for rich notebook output.\n",
      "2024-11-14 16:55:13,639\tINFO util.py:154 -- Missing packages: ['ipywidgets']. Run `pip install -U ipywidgets`, then restart the notebook server for rich notebook output.\n"
     ]
    }
   ],
   "source": [
    "import yfinance as yf\n",
    "from neuralforecast import NeuralForecast\n",
    "from neuralforecast.models import NBEATS\n",
    "import pandas as pd\n",
    "from datetime import datetime, timedelta"
   ]
  },
  {
   "cell_type": "code",
   "execution_count": 2,
   "metadata": {},
   "outputs": [],
   "source": [
    "def get_stock_forecast(stock_symbol: str, max_prediction_length : int = 10):\n",
    "\n",
    "    max_encoder_length = 6\n",
    "    FREQUENCY='D'\n",
    "    #max_prediction_length = 10 # 5 days in the future\n",
    "    val_size = 10 # 4 Months forecast horizon in validation\n",
    "\n",
    "    # Download historical stock data from Yahoo Finance\n",
    "    #stock_symbol='TSLA'\n",
    "\n",
    "    stock_data = yf.download(stock_symbol, period=\"1y\", interval=\"1d\")\n",
    "\n",
    "    # Prepare data for the model (assuming the model needs certain columns and format)\n",
    "    stock_data = stock_data.reset_index().rename(columns={\"Date\": \"ds\", \"Close\": \"y\"})\n",
    "    stock_data = stock_data[[\"ds\", \"y\"]].copy()\n",
    "    stock_data.columns = [\"ds\", \"y\"]\n",
    "    stock_data['unique_id'] = stock_symbol\n",
    "\n",
    "    models = [\n",
    "        NBEATS(\n",
    "            input_size=max_encoder_length,\n",
    "            h=max_prediction_length,\n",
    "            max_steps=max_encoder_length,\n",
    "        ),\n",
    "    ]\n",
    "\n",
    "    # Initialize the NEBATS model for forecasting\n",
    "    nf = NeuralForecast(models=models, freq=FREQUENCY)\n",
    "    nf.fit(df=stock_data, val_size=val_size, verbose=False)\n",
    "    future_dates = nf.predict().reset_index()\n",
    "    future_dates = future_dates.rename(columns={'unique_id':'ticker', 'ds':'date', 'NBEATS':'prediction'})\n",
    "\n",
    "    # Format the forecast results\n",
    "    return future_dates\n"
   ]
  },
  {
   "cell_type": "code",
   "execution_count": 3,
   "metadata": {},
   "outputs": [
    {
     "name": "stderr",
     "output_type": "stream",
     "text": [
      "[*********************100%***********************]  1 of 1 completed\n",
      "Seed set to 1\n",
      "/Users/johtorr/Repos/llm-local-rag/.venv/lib/python3.12/site-packages/neuralforecast/common/_base_model.py:345: UserWarning: val_check_steps is greater than max_steps, setting val_check_steps to max_steps.\n",
      "  warnings.warn(\n",
      "GPU available: True (mps), used: True\n",
      "TPU available: False, using: 0 TPU cores\n",
      "HPU available: False, using: 0 HPUs\n",
      "\n",
      "  | Name         | Type          | Params | Mode \n",
      "-------------------------------------------------------\n",
      "0 | loss         | MAE           | 0      | train\n",
      "1 | padder_train | ConstantPad1d | 0      | train\n",
      "2 | scaler       | TemporalNorm  | 0      | train\n",
      "3 | blocks       | ModuleList    | 2.4 M  | train\n",
      "-------------------------------------------------------\n",
      "2.4 M     Trainable params\n",
      "336       Non-trainable params\n",
      "2.4 M     Total params\n",
      "9.619     Total estimated model params size (MB)\n",
      "31        Modules in train mode\n",
      "0         Modules in eval mode\n"
     ]
    },
    {
     "name": "stdout",
     "output_type": "stream",
     "text": [
      "Epoch 5: 100%|██████████| 1/1 [00:00<00:00, 26.10it/s, v_num=16, train_loss_step=17.40, train_loss_epoch=17.40, valid_loss=49.70]"
     ]
    },
    {
     "name": "stderr",
     "output_type": "stream",
     "text": [
      "`Trainer.fit` stopped: `max_steps=6` reached.\n"
     ]
    },
    {
     "name": "stdout",
     "output_type": "stream",
     "text": [
      "Epoch 5: 100%|██████████| 1/1 [00:00<00:00, 25.10it/s, v_num=16, train_loss_step=17.40, train_loss_epoch=17.40, valid_loss=49.70]"
     ]
    },
    {
     "name": "stderr",
     "output_type": "stream",
     "text": [
      "GPU available: True (mps), used: True\n",
      "TPU available: False, using: 0 TPU cores\n",
      "HPU available: False, using: 0 HPUs\n"
     ]
    },
    {
     "name": "stdout",
     "output_type": "stream",
     "text": [
      "\n",
      "Predicting DataLoader 0: 100%|██████████| 1/1 [00:00<00:00, 133.53it/s]\n"
     ]
    },
    {
     "name": "stderr",
     "output_type": "stream",
     "text": [
      "/Users/johtorr/Repos/llm-local-rag/.venv/lib/python3.12/site-packages/neuralforecast/core.py:210: FutureWarning: In a future version the predictions will have the id as a column. You can set the `NIXTLA_ID_AS_COL` environment variable to adopt the new behavior and to suppress this warning.\n",
      "  warnings.warn(\n"
     ]
    },
    {
     "data": {
      "text/html": [
       "<div>\n",
       "<style scoped>\n",
       "    .dataframe tbody tr th:only-of-type {\n",
       "        vertical-align: middle;\n",
       "    }\n",
       "\n",
       "    .dataframe tbody tr th {\n",
       "        vertical-align: top;\n",
       "    }\n",
       "\n",
       "    .dataframe thead th {\n",
       "        text-align: right;\n",
       "    }\n",
       "</style>\n",
       "<table border=\"1\" class=\"dataframe\">\n",
       "  <thead>\n",
       "    <tr style=\"text-align: right;\">\n",
       "      <th></th>\n",
       "      <th>ticker</th>\n",
       "      <th>date</th>\n",
       "      <th>prediction</th>\n",
       "    </tr>\n",
       "  </thead>\n",
       "  <tbody>\n",
       "    <tr>\n",
       "      <th>0</th>\n",
       "      <td>TSLA</td>\n",
       "      <td>2024-11-15 00:00:00+00:00</td>\n",
       "      <td>328.103180</td>\n",
       "    </tr>\n",
       "    <tr>\n",
       "      <th>1</th>\n",
       "      <td>TSLA</td>\n",
       "      <td>2024-11-16 00:00:00+00:00</td>\n",
       "      <td>297.503204</td>\n",
       "    </tr>\n",
       "    <tr>\n",
       "      <th>2</th>\n",
       "      <td>TSLA</td>\n",
       "      <td>2024-11-17 00:00:00+00:00</td>\n",
       "      <td>319.909546</td>\n",
       "    </tr>\n",
       "    <tr>\n",
       "      <th>3</th>\n",
       "      <td>TSLA</td>\n",
       "      <td>2024-11-18 00:00:00+00:00</td>\n",
       "      <td>322.592926</td>\n",
       "    </tr>\n",
       "    <tr>\n",
       "      <th>4</th>\n",
       "      <td>TSLA</td>\n",
       "      <td>2024-11-19 00:00:00+00:00</td>\n",
       "      <td>306.447601</td>\n",
       "    </tr>\n",
       "    <tr>\n",
       "      <th>5</th>\n",
       "      <td>TSLA</td>\n",
       "      <td>2024-11-20 00:00:00+00:00</td>\n",
       "      <td>330.680878</td>\n",
       "    </tr>\n",
       "    <tr>\n",
       "      <th>6</th>\n",
       "      <td>TSLA</td>\n",
       "      <td>2024-11-21 00:00:00+00:00</td>\n",
       "      <td>336.297424</td>\n",
       "    </tr>\n",
       "    <tr>\n",
       "      <th>7</th>\n",
       "      <td>TSLA</td>\n",
       "      <td>2024-11-22 00:00:00+00:00</td>\n",
       "      <td>326.578674</td>\n",
       "    </tr>\n",
       "    <tr>\n",
       "      <th>8</th>\n",
       "      <td>TSLA</td>\n",
       "      <td>2024-11-23 00:00:00+00:00</td>\n",
       "      <td>310.416016</td>\n",
       "    </tr>\n",
       "    <tr>\n",
       "      <th>9</th>\n",
       "      <td>TSLA</td>\n",
       "      <td>2024-11-24 00:00:00+00:00</td>\n",
       "      <td>320.315735</td>\n",
       "    </tr>\n",
       "  </tbody>\n",
       "</table>\n",
       "</div>"
      ],
      "text/plain": [
       "  ticker                      date  prediction\n",
       "0   TSLA 2024-11-15 00:00:00+00:00  328.103180\n",
       "1   TSLA 2024-11-16 00:00:00+00:00  297.503204\n",
       "2   TSLA 2024-11-17 00:00:00+00:00  319.909546\n",
       "3   TSLA 2024-11-18 00:00:00+00:00  322.592926\n",
       "4   TSLA 2024-11-19 00:00:00+00:00  306.447601\n",
       "5   TSLA 2024-11-20 00:00:00+00:00  330.680878\n",
       "6   TSLA 2024-11-21 00:00:00+00:00  336.297424\n",
       "7   TSLA 2024-11-22 00:00:00+00:00  326.578674\n",
       "8   TSLA 2024-11-23 00:00:00+00:00  310.416016\n",
       "9   TSLA 2024-11-24 00:00:00+00:00  320.315735"
      ]
     },
     "execution_count": 3,
     "metadata": {},
     "output_type": "execute_result"
    }
   ],
   "source": [
    "get_stock_forecast('TSLA')"
   ]
  },
  {
   "cell_type": "code",
   "execution_count": 8,
   "metadata": {},
   "outputs": [],
   "source": [
    "import requests\n",
    "import json\n",
    "import os \n",
    "\n",
    "api_key = os.environ['OPENAI_API_KEY']\n",
    "endpoint = \"https://api.openai.com/v1/chat/completions\"\n",
    "\n",
    "headers = {\n",
    "    \"Content-Type\": \"application/json\",\n",
    "    \"Authorization\": f\"Bearer {api_key}\"\n",
    "}\n",
    "\n",
    "# Define the function schema for OpenAI function calling\n",
    "function_schema = {\n",
    "    \"name\": \"get_stock_forecast\",\n",
    "    \"description\": \"Get stock price forecast for the next five days\",\n",
    "    \"parameters\": {\n",
    "        \"type\": \"object\",\n",
    "        \"properties\": {\n",
    "            \"stock_symbol\": {\n",
    "                \"type\": \"string\",\n",
    "                \"description\": \"The stock symbol to forecast (e.g., 'AAPL', 'MSFT').\"\n",
    "            }\n",
    "        },\n",
    "        \"required\": [\"stock_symbol\"]\n",
    "    }\n",
    "}\n",
    "\n",
    "# Define the initial user message\n",
    "messages = [\n",
    "    {\"role\": \"user\", \"content\": \"Get stock price forecast for Qualcomm\"}\n",
    "]\n",
    "\n",
    "# Prepare the request data with function calling\n",
    "data = {\n",
    "    \"model\": \"gpt-4o-mini\",  # or any other compatible model\n",
    "    \"messages\": messages,\n",
    "    \"functions\": [function_schema],\n",
    "    \"function_call\": \"auto\"\n",
    "}"
   ]
  },
  {
   "cell_type": "code",
   "execution_count": 9,
   "metadata": {},
   "outputs": [
    {
     "name": "stderr",
     "output_type": "stream",
     "text": [
      "[*********************100%***********************]  1 of 1 completed\n",
      "Seed set to 1\n",
      "/Users/johtorr/Repos/llm-local-rag/.venv/lib/python3.12/site-packages/neuralforecast/common/_base_model.py:345: UserWarning: val_check_steps is greater than max_steps, setting val_check_steps to max_steps.\n",
      "  warnings.warn(\n",
      "GPU available: True (mps), used: True\n",
      "TPU available: False, using: 0 TPU cores\n",
      "HPU available: False, using: 0 HPUs\n",
      "\n",
      "  | Name         | Type          | Params | Mode \n",
      "-------------------------------------------------------\n",
      "0 | loss         | MAE           | 0      | train\n",
      "1 | padder_train | ConstantPad1d | 0      | train\n",
      "2 | scaler       | TemporalNorm  | 0      | train\n",
      "3 | blocks       | ModuleList    | 2.4 M  | train\n",
      "-------------------------------------------------------\n",
      "2.4 M     Trainable params\n",
      "336       Non-trainable params\n",
      "2.4 M     Total params\n",
      "9.619     Total estimated model params size (MB)\n",
      "31        Modules in train mode\n",
      "0         Modules in eval mode\n"
     ]
    },
    {
     "name": "stdout",
     "output_type": "stream",
     "text": [
      "Epoch 5: 100%|██████████| 1/1 [00:00<00:00, 26.94it/s, v_num=20, train_loss_step=13.80, train_loss_epoch=13.80, valid_loss=8.070]"
     ]
    },
    {
     "name": "stderr",
     "output_type": "stream",
     "text": [
      "`Trainer.fit` stopped: `max_steps=6` reached.\n"
     ]
    },
    {
     "name": "stdout",
     "output_type": "stream",
     "text": [
      "Epoch 5: 100%|██████████| 1/1 [00:00<00:00, 25.99it/s, v_num=20, train_loss_step=13.80, train_loss_epoch=13.80, valid_loss=8.070]\n"
     ]
    },
    {
     "name": "stderr",
     "output_type": "stream",
     "text": [
      "GPU available: True (mps), used: True\n",
      "TPU available: False, using: 0 TPU cores\n",
      "HPU available: False, using: 0 HPUs\n"
     ]
    },
    {
     "name": "stdout",
     "output_type": "stream",
     "text": [
      "Predicting DataLoader 0: 100%|██████████| 1/1 [00:00<00:00, 234.70it/s]\n",
      "Forecast for QCOM:   ticker                      date  prediction\n",
      "0   QCOM 2024-11-15 00:00:00+00:00  159.472488\n",
      "1   QCOM 2024-11-16 00:00:00+00:00  150.782288\n",
      "2   QCOM 2024-11-17 00:00:00+00:00  171.692551\n",
      "3   QCOM 2024-11-18 00:00:00+00:00  182.642395\n",
      "4   QCOM 2024-11-19 00:00:00+00:00  148.371658\n",
      "5   QCOM 2024-11-20 00:00:00+00:00  172.857285\n",
      "6   QCOM 2024-11-21 00:00:00+00:00  172.897049\n",
      "7   QCOM 2024-11-22 00:00:00+00:00  175.358490\n",
      "8   QCOM 2024-11-23 00:00:00+00:00  159.263351\n",
      "9   QCOM 2024-11-24 00:00:00+00:00  164.023407\n"
     ]
    },
    {
     "name": "stderr",
     "output_type": "stream",
     "text": [
      "/Users/johtorr/Repos/llm-local-rag/.venv/lib/python3.12/site-packages/neuralforecast/core.py:210: FutureWarning: In a future version the predictions will have the id as a column. You can set the `NIXTLA_ID_AS_COL` environment variable to adopt the new behavior and to suppress this warning.\n",
      "  warnings.warn(\n"
     ]
    }
   ],
   "source": [
    "# Send the request\n",
    "response = requests.post(endpoint, headers=headers, data=json.dumps(data))\n",
    "\n",
    "# Check if the response includes a function call request\n",
    "if response.status_code == 200:\n",
    "    result = response.json()\n",
    "    function_call = result[\"choices\"][0].get(\"message\", {}).get(\"function_call\")\n",
    "\n",
    "    if function_call:\n",
    "        # If the model requests a function call, extract arguments and call the function\n",
    "        arguments = json.loads(function_call[\"arguments\"])\n",
    "        stock_symbol = arguments[\"stock_symbol\"]\n",
    "        forecast = get_stock_forecast(stock_symbol)\n",
    "        print(f\"Forecast for {stock_symbol}:\", forecast)\n",
    "    else:\n",
    "        print(result[\"choices\"][0][\"message\"][\"content\"])\n",
    "else:\n",
    "    print(f\"Request failed with status code {response.status_code}: {response.text}\")"
   ]
  },
  {
   "cell_type": "code",
   "execution_count": 51,
   "metadata": {},
   "outputs": [
    {
     "data": {
      "text/plain": [
       "{'name': 'get_stock_forecast', 'arguments': '{\"stock_symbol\":\"MBG.DE\"}'}"
      ]
     },
     "execution_count": 51,
     "metadata": {},
     "output_type": "execute_result"
    }
   ],
   "source": [
    "function_call"
   ]
  },
  {
   "cell_type": "code",
   "execution_count": null,
   "metadata": {},
   "outputs": [],
   "source": []
  }
 ],
 "metadata": {
  "kernelspec": {
   "display_name": ".venv",
   "language": "python",
   "name": "python3"
  },
  "language_info": {
   "codemirror_mode": {
    "name": "ipython",
    "version": 3
   },
   "file_extension": ".py",
   "mimetype": "text/x-python",
   "name": "python",
   "nbconvert_exporter": "python",
   "pygments_lexer": "ipython3",
   "version": "3.12.4"
  }
 },
 "nbformat": 4,
 "nbformat_minor": 2
}
